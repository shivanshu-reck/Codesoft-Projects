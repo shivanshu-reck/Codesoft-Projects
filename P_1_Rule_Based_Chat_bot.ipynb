{
  "cells": [
    {
      "cell_type": "markdown",
      "metadata": {
        "id": "view-in-github",
        "colab_type": "text"
      },
      "source": [
        "<a href=\"https://colab.research.google.com/github/shivanshu-reck/Codesoft-Projects/blob/main/P_1_Rule_Based_Chat_bot.ipynb\" target=\"_parent\"><img src=\"https://colab.research.google.com/assets/colab-badge.svg\" alt=\"Open In Colab\"/></a>"
      ]
    },
    {
      "cell_type": "markdown",
      "source": [
        "##Importing the libraries"
      ],
      "metadata": {
        "id": "PZG44aNG6lbV"
      }
    },
    {
      "cell_type": "code",
      "source": [
        "import random\n",
        "import nltk\n",
        "from nltk.tokenize import word_tokenize\n",
        "from nltk.corpus import stopwords"
      ],
      "metadata": {
        "id": "qkrjdcdw6tNO"
      },
      "execution_count": null,
      "outputs": []
    },
    {
      "cell_type": "markdown",
      "source": [
        "\n",
        "## Initialize NLTK"
      ],
      "metadata": {
        "id": "UU5wFA9j6xM8"
      }
    },
    {
      "cell_type": "code",
      "source": [
        "nltk.download(\"punkt\")\n",
        "nltk.download(\"stopwords\")"
      ],
      "metadata": {
        "colab": {
          "base_uri": "https://localhost:8080/"
        },
        "id": "BxKXMJjO65V8",
        "outputId": "fb2a0163-7d32-4976-a7de-a787aecdaf3d"
      },
      "execution_count": null,
      "outputs": [
        {
          "output_type": "stream",
          "name": "stderr",
          "text": [
            "[nltk_data] Downloading package punkt to /root/nltk_data...\n",
            "[nltk_data]   Unzipping tokenizers/punkt.zip.\n",
            "[nltk_data] Downloading package stopwords to /root/nltk_data...\n",
            "[nltk_data]   Unzipping corpora/stopwords.zip.\n"
          ]
        },
        {
          "output_type": "execute_result",
          "data": {
            "text/plain": [
              "True"
            ]
          },
          "metadata": {},
          "execution_count": 2
        }
      ]
    },
    {
      "cell_type": "markdown",
      "source": [
        "##Define responses for different user intents"
      ],
      "metadata": {
        "id": "yoLK99Mo6-pI"
      }
    },
    {
      "cell_type": "code",
      "source": [
        "responses = {\n",
        "    \"greeting\": [\"Hello! How can I assist you today?\", \"Hi there! How can I help?\", \"Greetings! What can I do for you?\"],\n",
        "    \"farewell\": [\"Goodbye! Have a great day!\", \"Farewell! If you need assistance later, feel free to ask.\", \"Goodbye! Take care!\"],\n",
        "    \"thanks\": [\"You're welcome! If you have more questions, don't hesitate to ask.\", \"No problem! If you need anything else, just let me know.\", \"You got it! If there's anything else I can help with, feel free to ask.\"],\n",
        "    \"default\": [\"I'm not sure how to respond to that. Could you please rephrase your question?\", \"I didn't catch that. Can you ask in a different way?\", \"I'm sorry, I don't have an answer for that. Is there something else you'd like to know?\"]\n",
        "}"
      ],
      "metadata": {
        "id": "88Ku5mW47FDB"
      },
      "execution_count": null,
      "outputs": []
    },
    {
      "cell_type": "markdown",
      "source": [
        "## Preprocess user input"
      ],
      "metadata": {
        "id": "uDPPmzOc7JeX"
      }
    },
    {
      "cell_type": "code",
      "source": [
        "def preprocess_input(user_input):\n",
        "    user_input = user_input.lower()\n",
        "    # Tokenize the input text\n",
        "    tokens = word_tokenize(user_input)\n",
        "    # Remove stopwords and punctuation\n",
        "    tokens = [word for word in tokens if word.isalnum() and word not in stopwords.words(\"english\")]\n",
        "    return tokens\n"
      ],
      "metadata": {
        "id": "8L9ODU687N0u"
      },
      "execution_count": null,
      "outputs": []
    },
    {
      "cell_type": "markdown",
      "source": [
        "## Determine user intent based on keywords"
      ],
      "metadata": {
        "id": "u1DkFNBv7StL"
      }
    },
    {
      "cell_type": "code",
      "source": [
        "def get_intent(tokens):\n",
        "    if any(word in tokens for word in [\"hello\", \"hi\", \"hey\", \"greetings\"]):\n",
        "        return \"greeting\"\n",
        "    elif any(word in tokens for word in [\"bye\", \"goodbye\", \"farewell\"]):\n",
        "        return \"farewell\"\n",
        "    elif any(word in tokens for word in [\"thanks\", \"thank\", \"appreciate\"]):\n",
        "        return \"thanks\"\n",
        "    else:\n",
        "        return \"default\""
      ],
      "metadata": {
        "id": "MfOy42Wj7WwK"
      },
      "execution_count": null,
      "outputs": []
    },
    {
      "cell_type": "markdown",
      "source": [
        "## Chatbot response"
      ],
      "metadata": {
        "id": "7UjkQDwg7aNp"
      }
    },
    {
      "cell_type": "code",
      "source": [
        "def chatbot_response(user_input):\n",
        "    tokens = preprocess_input(user_input)\n",
        "    intent = get_intent(tokens)\n",
        "    return random.choice(responses[intent])"
      ],
      "metadata": {
        "id": "bA8rvTV67gN7"
      },
      "execution_count": null,
      "outputs": []
    },
    {
      "cell_type": "markdown",
      "source": [
        "##Main funcrion"
      ],
      "metadata": {
        "id": "6JgdS2mM7s6t"
      }
    },
    {
      "cell_type": "code",
      "execution_count": null,
      "metadata": {
        "colab": {
          "background_save": true,
          "base_uri": "https://localhost:8080/"
        },
        "id": "TsbalXVupBfy",
        "outputId": "75d03da1-1438-4245-bf7e-90466f68e209"
      },
      "outputs": [
        {
          "output_type": "stream",
          "name": "stdout",
          "text": [
            "Chatbot: Hello! How can I assist you today?\n",
            "You: hello how are you?\n",
            "Chatbot: Hi there! How can I help?\n",
            "You: i am fine good bye\n",
            "Chatbot: Goodbye! Have a great day!\n"
          ]
        }
      ],
      "source": [
        "def main():\n",
        "    print(\"Chatbot: Hello! How can I assist you today?\")\n",
        "\n",
        "    while True:\n",
        "        user_input = input(\"You: \").strip()\n",
        "        if user_input.lower() == \"exit\":\n",
        "            print(\"Chatbot: Goodbye!\")\n",
        "            break\n",
        "\n",
        "        response = chatbot_response(user_input)\n",
        "        print(\"Chatbot:\", response)\n",
        "\n",
        "if __name__ == \"__main__\":\n",
        "    main()\n",
        "\n"
      ]
    },
    {
      "cell_type": "code",
      "source": [],
      "metadata": {
        "id": "4P6DYrlr7prg"
      },
      "execution_count": null,
      "outputs": []
    }
  ],
  "metadata": {
    "colab": {
      "provenance": [],
      "authorship_tag": "ABX9TyPBOPh2grqlQ03kcUotWLhZ",
      "include_colab_link": true
    },
    "kernelspec": {
      "display_name": "Python 3",
      "name": "python3"
    },
    "language_info": {
      "name": "python"
    }
  },
  "nbformat": 4,
  "nbformat_minor": 0
}