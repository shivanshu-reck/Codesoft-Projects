{
  "nbformat": 4,
  "nbformat_minor": 0,
  "metadata": {
    "colab": {
      "provenance": [],
      "mount_file_id": "1oU3K_Q4jbyrJ7QI6LvdIfoQcj9RR3t5S",
      "authorship_tag": "ABX9TyOkydNXRMOAxa/lv4KtiRPa",
      "include_colab_link": true
    },
    "kernelspec": {
      "name": "python3",
      "display_name": "Python 3"
    },
    "language_info": {
      "name": "python"
    }
  },
  "cells": [
    {
      "cell_type": "markdown",
      "metadata": {
        "id": "view-in-github",
        "colab_type": "text"
      },
      "source": [
        "<a href=\"https://colab.research.google.com/github/shivanshu-reck/Codesoft-Projects/blob/main/Untitled7.ipynb\" target=\"_parent\"><img src=\"https://colab.research.google.com/assets/colab-badge.svg\" alt=\"Open In Colab\"/></a>"
      ]
    },
    {
      "cell_type": "code",
      "source": [
        "import pandas as pd\n",
        "\n",
        "# Assuming you have loaded the data into ratings_df and movies_df\n",
        "# Replace file paths with your actual file paths\n",
        "ratings_df = pd.read_csv('/content/drive/MyDrive/Data Set/ratings.csv')\n",
        "movies_df = pd.read_csv('/content/drive/MyDrive/Data Set/movies.csv')\n",
        "\n",
        "# Step 1: Group user ratings based on movieId and calculate count and mean\n",
        "grouped_ratings = ratings_df.groupby('movieId')['rating'].agg(['count', 'mean']).reset_index()\n",
        "\n",
        "# Step 2: Inner join on dataframes\n",
        "merged_df = pd.merge(movies_df, grouped_ratings, on='movieId', how='inner')\n",
        "\n",
        "# Step 3: Filter only movies with more than 50 user ratings\n",
        "filtered_df = merged_df[merged_df['count'] > 50]\n",
        "\n",
        "# Step 4: Calculate average ratings for each movie\n",
        "average_ratings = filtered_df.groupby('title')['mean'].mean().reset_index()\n",
        "\n",
        "# Step 5: Identify the most popul\n",
        "most_popular_movie = average_ratings.loc[average_ratings['mean'].idxmax()]\n",
        "\n",
        "print(\"Most Popular Movie: {}\".format(most_popular_movie['title']))\n"
      ],
      "metadata": {
        "colab": {
          "base_uri": "https://localhost:8080/"
        },
        "id": "m3z5mEeIRjX3",
        "outputId": "418f51f2-a6f4-401f-dc61-76b1162d0185"
      },
      "execution_count": 57,
      "outputs": [
        {
          "output_type": "stream",
          "name": "stdout",
          "text": [
            "Most Popular Movie: Shawshank Redemption, The (1994)\n"
          ]
        }
      ]
    },
    {
      "cell_type": "code",
      "source": [
        "# Assuming you have performed the mandatory operations and have the filtered_df dataframe\n",
        "\n",
        "# Step 1: Sort the dataframe by the count of user ratings in descending order\n",
        "sorted_df = filtered_df.sort_values(by='count', ascending=False)\n",
        "\n",
        "# Step 2: Select the top 5 movies\n",
        "top_5_movies = sorted_df.head(5)\n",
        "\n",
        "# Display the top 5 movies\n",
        "print(\"Top 5 Popular Movies Based on Number of User Ratings:\")\n",
        "print(top_5_movies[['title', 'count']])\n"
      ],
      "metadata": {
        "colab": {
          "base_uri": "https://localhost:8080/"
        },
        "id": "602ICLa0Ruap",
        "outputId": "8e6db87a-9bf7-4b27-948b-687d3a09611a"
      },
      "execution_count": 58,
      "outputs": [
        {
          "output_type": "stream",
          "name": "stdout",
          "text": [
            "Top 5 Popular Movies Based on Number of User Ratings:\n",
            "                                 title  count\n",
            "314                Forrest Gump (1994)    329\n",
            "277   Shawshank Redemption, The (1994)    317\n",
            "257                Pulp Fiction (1994)    307\n",
            "510   Silence of the Lambs, The (1991)    279\n",
            "1938                Matrix, The (1999)    278\n"
          ]
        }
      ]
    },
    {
      "cell_type": "code",
      "source": [
        "# Assuming you have performed the mandatory operations and have the filtered_df dataframe\n",
        "\n",
        "# Step 1: Filter the dataframe to include only Sci-Fi movies\n",
        "sci_fi_df = filtered_df[filtered_df['genres'].str.contains('Sci-Fi', case=False)]\n",
        "\n",
        "# Step 2: Sort the Sci-Fi dataframe by the count of user ratings in descending order\n",
        "sorted_sci_fi_df = sci_fi_df.sort_values(by='count', ascending=False)\n",
        "\n",
        "# Step 3: Select the third Sci-Fi movie\n",
        "third_most_popular_sci_fi_movie = sorted_sci_fi_df.iloc[2]\n",
        "\n",
        "# Display the third most popular Sci-Fi movie\n",
        "print(\"Third Most Popular Sci-Fi Movie Based on Number of User Ratings:\")\n",
        "print(third_most_popular_sci_fi_movie[['title', 'count']])\n"
      ],
      "metadata": {
        "colab": {
          "base_uri": "https://localhost:8080/"
        },
        "id": "VeeBjxxOSRdn",
        "outputId": "f1df5cec-a2dd-4395-d72d-e6152e835213"
      },
      "execution_count": 59,
      "outputs": [
        {
          "output_type": "stream",
          "name": "stdout",
          "text": [
            "Third Most Popular Sci-Fi Movie Based on Number of User Ratings:\n",
            "title    Jurassic Park (1993)\n",
            "count                     238\n",
            "Name: 418, dtype: object\n"
          ]
        }
      ]
    },
    {
      "cell_type": "code",
      "source": [
        "links_df = pd.read_csv('/content/drive/MyDrive/Data Set/links.csv')\n",
        "movies_df = pd.read_csv('/content/drive/MyDrive/Data Set/movies.csv')\n",
        "ratings_df = pd.read_csv('/content/drive/MyDrive/Data Set/ratings.csv')\n",
        "tags_df = pd.read_csv('/content/drive/MyDrive/Data Set/tags.csv')"
      ],
      "metadata": {
        "id": "zsLemVCoSR8q"
      },
      "execution_count": 68,
      "outputs": []
    },
    {
      "cell_type": "code",
      "source": [
        "print(links_df.info())\n",
        "print(movies_df.info())\n",
        "print(ratings_df.info())\n",
        "print(tags_df.info())"
      ],
      "metadata": {
        "colab": {
          "base_uri": "https://localhost:8080/"
        },
        "id": "3v0w0NYTSzb6",
        "outputId": "488bfa85-2ab7-4d79-fab6-75dd4366cb88"
      },
      "execution_count": 69,
      "outputs": [
        {
          "output_type": "stream",
          "name": "stdout",
          "text": [
            "<class 'pandas.core.frame.DataFrame'>\n",
            "RangeIndex: 9742 entries, 0 to 9741\n",
            "Data columns (total 3 columns):\n",
            " #   Column   Non-Null Count  Dtype  \n",
            "---  ------   --------------  -----  \n",
            " 0   movieId  9742 non-null   int64  \n",
            " 1   imdbId   9742 non-null   int64  \n",
            " 2   tmdbId   9734 non-null   float64\n",
            "dtypes: float64(1), int64(2)\n",
            "memory usage: 228.5 KB\n",
            "None\n",
            "<class 'pandas.core.frame.DataFrame'>\n",
            "RangeIndex: 9742 entries, 0 to 9741\n",
            "Data columns (total 3 columns):\n",
            " #   Column   Non-Null Count  Dtype \n",
            "---  ------   --------------  ----- \n",
            " 0   movieId  9742 non-null   int64 \n",
            " 1   title    9742 non-null   object\n",
            " 2   genres   9742 non-null   object\n",
            "dtypes: int64(1), object(2)\n",
            "memory usage: 228.5+ KB\n",
            "None\n",
            "<class 'pandas.core.frame.DataFrame'>\n",
            "RangeIndex: 100836 entries, 0 to 100835\n",
            "Data columns (total 4 columns):\n",
            " #   Column     Non-Null Count   Dtype  \n",
            "---  ------     --------------   -----  \n",
            " 0   userId     100836 non-null  int64  \n",
            " 1   movieId    100836 non-null  int64  \n",
            " 2   rating     100836 non-null  float64\n",
            " 3   timestamp  100836 non-null  int64  \n",
            "dtypes: float64(1), int64(3)\n",
            "memory usage: 3.1 MB\n",
            "None\n",
            "<class 'pandas.core.frame.DataFrame'>\n",
            "RangeIndex: 3683 entries, 0 to 3682\n",
            "Data columns (total 4 columns):\n",
            " #   Column     Non-Null Count  Dtype \n",
            "---  ------     --------------  ----- \n",
            " 0   userId     3683 non-null   int64 \n",
            " 1   movieId    3683 non-null   int64 \n",
            " 2   tag        3683 non-null   object\n",
            " 3   timestamp  3683 non-null   int64 \n",
            "dtypes: int64(3), object(1)\n",
            "memory usage: 115.2+ KB\n",
            "None\n"
          ]
        }
      ]
    },
    {
      "cell_type": "code",
      "source": [
        "import pandas as pd\n",
        "\n",
        "# Load IMDb data\n",
        "imdb_data = pd.read_csv(\"/content/drive/MyDrive/Data Set/links.csv\")  # Replace with the actual path\n",
        "\n",
        "# Find the row with the highest IMDb rating\n",
        "max_rating_row = imdb_data.loc[imdb_data['imdbId'].idxmax()]\n",
        "\n",
        "# Extract the 'movieId' from the row\n",
        "movie_id_highest_rating = max_rating_row['movieId']\n",
        "\n",
        "print(\"Movie ID with the highest IMDb rating:\", movie_id_highest_rating)\n"
      ],
      "metadata": {
        "colab": {
          "base_uri": "https://localhost:8080/"
        },
        "id": "ePSdfD0PS4HB",
        "outputId": "8c517850-403e-4330-c69c-b0dc4328b6d6"
      },
      "execution_count": 71,
      "outputs": [
        {
          "output_type": "stream",
          "name": "stdout",
          "text": [
            "Movie ID with the highest IMDb rating: 193587.0\n"
          ]
        }
      ]
    },
    {
      "cell_type": "code",
      "source": [
        "import pandas as pd\n",
        "\n",
        "# Assuming you have loaded the datasets into the following DataFrames:\n",
        "# imdb_data: DataFrame containing IMDb data\n",
        "# movies_data: DataFrame containing movies data\n",
        "\n",
        "# Merge IMDb data with movies data on 'movieId'\n",
        "merged_data = pd.merge(imdb_data, movies_df, on='movieId', how='inner')\n",
        "\n",
        "# Filter Sci-Fi movies\n",
        "sci_fi_movies = merged_data[merged_data['genres'].str.contains('Sci-Fi', case=False, na=False)]\n",
        "\n",
        "# Find the row with the highest IMDb rating among Sci-Fi movies\n",
        "max_rating_row_sci_fi = sci_fi_movies.loc[sci_fi_movies['imdbId'].idxmax()]\n",
        "\n",
        "# Extract the 'movieId' from the row\n",
        "movie_id_highest_rating_sci_fi = max_rating_row_sci_fi['movieId']\n",
        "\n",
        "print(\"Movie ID of the Sci-Fi movie with the highest IMDb rating:\", movie_id_highest_rating_sci_fi)\n"
      ],
      "metadata": {
        "colab": {
          "base_uri": "https://localhost:8080/"
        },
        "id": "MAoh7N7NTVA0",
        "outputId": "8c25c8f1-0f86-4417-f13f-6713fd4abe21"
      },
      "execution_count": 73,
      "outputs": [
        {
          "output_type": "stream",
          "name": "stdout",
          "text": [
            "Movie ID of the Sci-Fi movie with the highest IMDb rating: 179053\n"
          ]
        }
      ]
    },
    {
      "cell_type": "code",
      "source": [],
      "metadata": {
        "id": "rTWhtAEaV-t8"
      },
      "execution_count": null,
      "outputs": []
    }
  ]
}